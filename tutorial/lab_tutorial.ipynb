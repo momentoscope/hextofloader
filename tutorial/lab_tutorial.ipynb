{
 "cells": [
  {
   "cell_type": "code",
   "execution_count": 1,
   "metadata": {},
   "outputs": [],
   "source": [
    "from hextofloader.dataframe_reader import readData"
   ]
  },
  {
   "cell_type": "code",
   "execution_count": 13,
   "metadata": {},
   "outputs": [],
   "source": [
    "from hextofloader.data_sources.lab import lab\n",
    "\n",
    "flash_obj = lab(2, 'LAB_TUTORIAL.yaml')\n",
    "flash_obj.availableChannels"
   ]
  },
  {
   "cell_type": "code",
   "execution_count": 15,
   "metadata": {},
   "outputs": [
    {
     "data": {
      "text/plain": [
       "{'delayStage': {'format': 'slow',\n",
       "  'group_name': '/Actuators/hextof/scanning/delaystage/Time'},\n",
       " 'exposure': {'format': 'slow', 'group_name': '/SlowData/exposure_time'},\n",
       " 'dldTime': {'format': 'electron', 'group_name': '/DLD/DLD/dldTime'},\n",
       " 'times': {'format': 'electron', 'group_name': '/DLD/DLD/times'},\n",
       " 'xPos': {'format': 'electron', 'group_name': '/DLD/DLD/xPos'},\n",
       " 'yPos': {'format': 'electron', 'group_name': '/DLD/DLD/yPos'},\n",
       " 'Ext_VURead': {'format': 'slow',\n",
       "  'group_name': '/SlowData/hextof/logic/kmic1/Ext_VURead'},\n",
       " 'Sample_VURead': {'format': 'slow',\n",
       "  'group_name': '/SlowData/hextof/logic/kmic1/Sample_VURead'},\n",
       " 'TOF_VURead': {'format': 'slow',\n",
       "  'group_name': '/SlowData/hextof/logic/kmic1/TOF_VURead'}}"
      ]
     },
     "execution_count": 15,
     "metadata": {},
     "output_type": "execute_result"
    }
   ],
   "source": [
    "from hextofloader.data_sources.flash import flash\n",
    "\n",
    "flash_obj = flash(2, 'LAB_TUTORIAL.yaml')\n",
    "flash_obj.availableChannels"
   ]
  },
  {
   "cell_type": "code",
   "execution_count": 3,
   "metadata": {},
   "outputs": [
    {
     "name": "stdout",
     "output_type": "stream",
     "text": [
      "Reading Files 1 to 3: 3 new files of 3 total.\n",
      "WARNING: skipped channels missing in h5 file: ['/Actuators/hextof/scanning/delaystage/Time']WARNING: skipped channels missing in h5 file: ['/Actuators/hextof/scanning/delaystage/Time']WARNING: skipped channels missing in h5 file: ['/Actuators/hextof/scanning/delaystage/Time']\n",
      "\n",
      "\n",
      "DLD/DLD/dldTime channel was usedDLD/DLD/times channel was usedDLD/DLD/dldTime channel was used\n",
      "\n",
      "\n",
      "WARNING: skipped channels missing in h5 file: ['/DLD/DLD/times']WARNING: skipped channels missing in h5 file: ['/DLD/DLD/dldTime']WARNING: skipped channels missing in h5 file: ['/DLD/DLD/times']\n",
      "\n",
      "\n",
      "Loading 3 dataframes. Failed reading 0 files.\n"
     ]
    }
   ],
   "source": [
    "df = readData('LAB_TUTORIAL.yaml', [1, 2, 3])"
   ]
  },
  {
   "cell_type": "code",
   "execution_count": 36,
   "metadata": {},
   "outputs": [
    {
     "ename": "AttributeError",
     "evalue": "'readData' object has no attribute 'sourceClass'",
     "output_type": "error",
     "traceback": [
      "\u001b[0;31m---------------------------------------------------------------------------\u001b[0m",
      "\u001b[0;31mAttributeError\u001b[0m                            Traceback (most recent call last)",
      "\u001b[1;32m/home/sohailmu/hextofloader/tutorial/lab_tutorial.ipynb Cell 4\u001b[0m in \u001b[0;36m<cell line: 1>\u001b[0;34m()\u001b[0m\n\u001b[0;32m----> <a href='vscode-notebook-cell://ssh-remote%2B7b22686f73744e616d65223a226d61782d646973706c61792e646573792e6465222c2275736572223a22736f6861696c6d75227d/home/sohailmu/hextofloader/tutorial/lab_tutorial.ipynb#W3sdnNjb2RlLXJlbW90ZQ%3D%3D?line=0'>1</a>\u001b[0m df\u001b[39m.\u001b[39;49msourceClass\u001b[39m.\u001b[39mdfs\n",
      "\u001b[0;31mAttributeError\u001b[0m: 'readData' object has no attribute 'sourceClass'"
     ]
    }
   ],
   "source": [
    "df.sourceClass.dfs"
   ]
  },
  {
   "cell_type": "code",
   "execution_count": 5,
   "metadata": {},
   "outputs": [
    {
     "data": {
      "text/html": [
       "<div>\n",
       "<style scoped>\n",
       "    .dataframe tbody tr th:only-of-type {\n",
       "        vertical-align: middle;\n",
       "    }\n",
       "\n",
       "    .dataframe tbody tr th {\n",
       "        vertical-align: top;\n",
       "    }\n",
       "\n",
       "    .dataframe thead th {\n",
       "        text-align: right;\n",
       "    }\n",
       "</style>\n",
       "<table border=\"1\" class=\"dataframe\">\n",
       "  <thead>\n",
       "    <tr style=\"text-align: right;\">\n",
       "      <th></th>\n",
       "      <th>index</th>\n",
       "      <th>Ext_VURead</th>\n",
       "      <th>Sample_VURead</th>\n",
       "      <th>TOF_VURead</th>\n",
       "      <th>exposure</th>\n",
       "      <th>times</th>\n",
       "      <th>xPos</th>\n",
       "      <th>yPos</th>\n",
       "      <th>dldTime</th>\n",
       "    </tr>\n",
       "  </thead>\n",
       "  <tbody>\n",
       "    <tr>\n",
       "      <th>0</th>\n",
       "      <td>0</td>\n",
       "      <td>6029.51</td>\n",
       "      <td>-0.002301</td>\n",
       "      <td>17.999886</td>\n",
       "      <td>2.0</td>\n",
       "      <td>26876.0</td>\n",
       "      <td>627</td>\n",
       "      <td>626</td>\n",
       "      <td>NaN</td>\n",
       "    </tr>\n",
       "    <tr>\n",
       "      <th>1</th>\n",
       "      <td>3766</td>\n",
       "      <td>6029.50</td>\n",
       "      <td>0.001856</td>\n",
       "      <td>17.999290</td>\n",
       "      <td>2.0</td>\n",
       "      <td>26769.0</td>\n",
       "      <td>618</td>\n",
       "      <td>613</td>\n",
       "      <td>NaN</td>\n",
       "    </tr>\n",
       "    <tr>\n",
       "      <th>2</th>\n",
       "      <td>9195</td>\n",
       "      <td>6029.50</td>\n",
       "      <td>0.002450</td>\n",
       "      <td>17.999886</td>\n",
       "      <td>2.0</td>\n",
       "      <td>27095.0</td>\n",
       "      <td>668</td>\n",
       "      <td>657</td>\n",
       "      <td>NaN</td>\n",
       "    </tr>\n",
       "    <tr>\n",
       "      <th>3</th>\n",
       "      <td>12305</td>\n",
       "      <td>6029.53</td>\n",
       "      <td>0.003044</td>\n",
       "      <td>18.000481</td>\n",
       "      <td>2.0</td>\n",
       "      <td>27161.0</td>\n",
       "      <td>665</td>\n",
       "      <td>634</td>\n",
       "      <td>NaN</td>\n",
       "    </tr>\n",
       "    <tr>\n",
       "      <th>4</th>\n",
       "      <td>16826</td>\n",
       "      <td>6029.48</td>\n",
       "      <td>-0.003489</td>\n",
       "      <td>17.995722</td>\n",
       "      <td>2.0</td>\n",
       "      <td>27192.0</td>\n",
       "      <td>671</td>\n",
       "      <td>632</td>\n",
       "      <td>NaN</td>\n",
       "    </tr>\n",
       "    <tr>\n",
       "      <th>...</th>\n",
       "      <td>...</td>\n",
       "      <td>...</td>\n",
       "      <td>...</td>\n",
       "      <td>...</td>\n",
       "      <td>...</td>\n",
       "      <td>...</td>\n",
       "      <td>...</td>\n",
       "      <td>...</td>\n",
       "      <td>...</td>\n",
       "    </tr>\n",
       "    <tr>\n",
       "      <th>782070</th>\n",
       "      <td>782070</td>\n",
       "      <td>6029.52</td>\n",
       "      <td>0.000668</td>\n",
       "      <td>10.000983</td>\n",
       "      <td>2.0</td>\n",
       "      <td>NaN</td>\n",
       "      <td>697</td>\n",
       "      <td>699</td>\n",
       "      <td>32139.0</td>\n",
       "    </tr>\n",
       "    <tr>\n",
       "      <th>782071</th>\n",
       "      <td>782071</td>\n",
       "      <td>6029.52</td>\n",
       "      <td>0.000668</td>\n",
       "      <td>10.000983</td>\n",
       "      <td>2.0</td>\n",
       "      <td>NaN</td>\n",
       "      <td>707</td>\n",
       "      <td>643</td>\n",
       "      <td>31336.0</td>\n",
       "    </tr>\n",
       "    <tr>\n",
       "      <th>782072</th>\n",
       "      <td>782072</td>\n",
       "      <td>6029.52</td>\n",
       "      <td>0.000668</td>\n",
       "      <td>10.000983</td>\n",
       "      <td>2.0</td>\n",
       "      <td>NaN</td>\n",
       "      <td>701</td>\n",
       "      <td>650</td>\n",
       "      <td>31337.0</td>\n",
       "    </tr>\n",
       "    <tr>\n",
       "      <th>782073</th>\n",
       "      <td>782073</td>\n",
       "      <td>6029.52</td>\n",
       "      <td>0.000668</td>\n",
       "      <td>10.000983</td>\n",
       "      <td>2.0</td>\n",
       "      <td>NaN</td>\n",
       "      <td>701</td>\n",
       "      <td>687</td>\n",
       "      <td>32123.0</td>\n",
       "    </tr>\n",
       "    <tr>\n",
       "      <th>782074</th>\n",
       "      <td>782074</td>\n",
       "      <td>6029.52</td>\n",
       "      <td>0.000668</td>\n",
       "      <td>10.000983</td>\n",
       "      <td>2.0</td>\n",
       "      <td>NaN</td>\n",
       "      <td>685</td>\n",
       "      <td>689</td>\n",
       "      <td>32138.0</td>\n",
       "    </tr>\n",
       "  </tbody>\n",
       "</table>\n",
       "<p>1802083 rows × 9 columns</p>\n",
       "</div>"
      ],
      "text/plain": [
       "         index  Ext_VURead  Sample_VURead  TOF_VURead  exposure    times  \\\n",
       "0            0     6029.51      -0.002301   17.999886       2.0  26876.0   \n",
       "1         3766     6029.50       0.001856   17.999290       2.0  26769.0   \n",
       "2         9195     6029.50       0.002450   17.999886       2.0  27095.0   \n",
       "3        12305     6029.53       0.003044   18.000481       2.0  27161.0   \n",
       "4        16826     6029.48      -0.003489   17.995722       2.0  27192.0   \n",
       "...        ...         ...            ...         ...       ...      ...   \n",
       "782070  782070     6029.52       0.000668   10.000983       2.0      NaN   \n",
       "782071  782071     6029.52       0.000668   10.000983       2.0      NaN   \n",
       "782072  782072     6029.52       0.000668   10.000983       2.0      NaN   \n",
       "782073  782073     6029.52       0.000668   10.000983       2.0      NaN   \n",
       "782074  782074     6029.52       0.000668   10.000983       2.0      NaN   \n",
       "\n",
       "        xPos  yPos  dldTime  \n",
       "0        627   626      NaN  \n",
       "1        618   613      NaN  \n",
       "2        668   657      NaN  \n",
       "3        665   634      NaN  \n",
       "4        671   632      NaN  \n",
       "...      ...   ...      ...  \n",
       "782070   697   699  32139.0  \n",
       "782071   707   643  31336.0  \n",
       "782072   701   650  31337.0  \n",
       "782073   701   687  32123.0  \n",
       "782074   685   689  32138.0  \n",
       "\n",
       "[1802083 rows x 9 columns]"
      ]
     },
     "execution_count": 5,
     "metadata": {},
     "output_type": "execute_result"
    }
   ],
   "source": [
    "df.dd.compute()"
   ]
  },
  {
   "cell_type": "code",
   "execution_count": null,
   "metadata": {},
   "outputs": [],
   "source": []
  }
 ],
 "metadata": {
  "kernelspec": {
   "display_name": "Python 3.10.6 ('hextofloader-0gSsxuEI-py3.10')",
   "language": "python",
   "name": "python3"
  },
  "language_info": {
   "codemirror_mode": {
    "name": "ipython",
    "version": 3
   },
   "file_extension": ".py",
   "mimetype": "text/x-python",
   "name": "python",
   "nbconvert_exporter": "python",
   "pygments_lexer": "ipython3",
   "version": "3.10.6"
  },
  "vscode": {
   "interpreter": {
    "hash": "6649351e7924cdc32422cb4ab91a7d5cc9d7d557c4dfc47790bb19b9d5404cc9"
   }
  }
 },
 "nbformat": 4,
 "nbformat_minor": 4
}
