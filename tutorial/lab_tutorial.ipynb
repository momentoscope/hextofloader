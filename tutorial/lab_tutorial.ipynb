{
 "cells": [
  {
   "cell_type": "code",
   "execution_count": 31,
   "metadata": {},
   "outputs": [],
   "source": [
    "from hextofloader.dataframe_reader import readData"
   ]
  },
  {
   "cell_type": "code",
   "execution_count": 4,
   "metadata": {},
   "outputs": [
    {
     "data": {
      "text/plain": [
       "'0.1.0'"
      ]
     },
     "execution_count": 4,
     "metadata": {},
     "output_type": "execute_result"
    }
   ],
   "source": [
    "import hextofloader as hl\n",
    "hl.__version__"
   ]
  },
  {
   "cell_type": "code",
   "execution_count": 32,
   "metadata": {},
   "outputs": [
    {
     "name": "stdout",
     "output_type": "stream",
     "text": [
      "Reading Files 1 to 3: 0 new files of 3 total.\n",
      "Loading 3 dataframes. Failed reading 0 files.\n"
     ]
    }
   ],
   "source": [
    "df = readData('LAB_TUTORIAL.yaml', [1, 2, 3])"
   ]
  },
  {
   "cell_type": "code",
   "execution_count": 36,
   "metadata": {},
   "outputs": [
    {
     "ename": "AttributeError",
     "evalue": "'readData' object has no attribute 'sourceClass'",
     "output_type": "error",
     "traceback": [
      "\u001b[0;31m---------------------------------------------------------------------------\u001b[0m",
      "\u001b[0;31mAttributeError\u001b[0m                            Traceback (most recent call last)",
      "\u001b[1;32m/home/sohailmu/hextofloader/tutorial/lab_tutorial.ipynb Cell 4\u001b[0m in \u001b[0;36m<cell line: 1>\u001b[0;34m()\u001b[0m\n\u001b[0;32m----> <a href='vscode-notebook-cell://ssh-remote%2B7b22686f73744e616d65223a226d61782d646973706c61792e646573792e6465222c2275736572223a22736f6861696c6d75227d/home/sohailmu/hextofloader/tutorial/lab_tutorial.ipynb#W3sdnNjb2RlLXJlbW90ZQ%3D%3D?line=0'>1</a>\u001b[0m df\u001b[39m.\u001b[39;49msourceClass\u001b[39m.\u001b[39mdfs\n",
      "\u001b[0;31mAttributeError\u001b[0m: 'readData' object has no attribute 'sourceClass'"
     ]
    }
   ],
   "source": [
    "df.sourceClass.dfs"
   ]
  },
  {
   "cell_type": "code",
   "execution_count": 24,
   "metadata": {},
   "outputs": [
    {
     "data": {
      "text/html": [
       "<div>\n",
       "<style scoped>\n",
       "    .dataframe tbody tr th:only-of-type {\n",
       "        vertical-align: middle;\n",
       "    }\n",
       "\n",
       "    .dataframe tbody tr th {\n",
       "        vertical-align: top;\n",
       "    }\n",
       "\n",
       "    .dataframe thead th {\n",
       "        text-align: right;\n",
       "    }\n",
       "</style>\n",
       "<table border=\"1\" class=\"dataframe\">\n",
       "  <thead>\n",
       "    <tr style=\"text-align: right;\">\n",
       "      <th></th>\n",
       "      <th>index</th>\n",
       "      <th>Ext_VURead</th>\n",
       "      <th>Sample_VURead</th>\n",
       "      <th>TOF_VURead</th>\n",
       "      <th>exposure</th>\n",
       "      <th>dldTime</th>\n",
       "      <th>xPos</th>\n",
       "      <th>yPos</th>\n",
       "    </tr>\n",
       "  </thead>\n",
       "  <tbody>\n",
       "    <tr>\n",
       "      <th>0</th>\n",
       "      <td>0</td>\n",
       "      <td>6029.48</td>\n",
       "      <td>-0.002895</td>\n",
       "      <td>17.992451</td>\n",
       "      <td>2.0</td>\n",
       "      <td>28008</td>\n",
       "      <td>711</td>\n",
       "      <td>657</td>\n",
       "    </tr>\n",
       "    <tr>\n",
       "      <th>1</th>\n",
       "      <td>79738</td>\n",
       "      <td>6029.47</td>\n",
       "      <td>0.003044</td>\n",
       "      <td>18.002563</td>\n",
       "      <td>2.0</td>\n",
       "      <td>43102</td>\n",
       "      <td>600</td>\n",
       "      <td>742</td>\n",
       "    </tr>\n",
       "    <tr>\n",
       "      <th>2</th>\n",
       "      <td>160967</td>\n",
       "      <td>6029.46</td>\n",
       "      <td>-0.006458</td>\n",
       "      <td>17.993641</td>\n",
       "      <td>2.0</td>\n",
       "      <td>18879</td>\n",
       "      <td>687</td>\n",
       "      <td>672</td>\n",
       "    </tr>\n",
       "    <tr>\n",
       "      <th>3</th>\n",
       "      <td>241307</td>\n",
       "      <td>6029.45</td>\n",
       "      <td>0.001262</td>\n",
       "      <td>18.000481</td>\n",
       "      <td>2.0</td>\n",
       "      <td>47471</td>\n",
       "      <td>609</td>\n",
       "      <td>715</td>\n",
       "    </tr>\n",
       "    <tr>\n",
       "      <th>4</th>\n",
       "      <td>322376</td>\n",
       "      <td>6029.46</td>\n",
       "      <td>0.003637</td>\n",
       "      <td>17.997805</td>\n",
       "      <td>2.0</td>\n",
       "      <td>29151</td>\n",
       "      <td>687</td>\n",
       "      <td>689</td>\n",
       "    </tr>\n",
       "    <tr>\n",
       "      <th>...</th>\n",
       "      <td>...</td>\n",
       "      <td>...</td>\n",
       "      <td>...</td>\n",
       "      <td>...</td>\n",
       "      <td>...</td>\n",
       "      <td>...</td>\n",
       "      <td>...</td>\n",
       "      <td>...</td>\n",
       "    </tr>\n",
       "    <tr>\n",
       "      <th>810849</th>\n",
       "      <td>810849</td>\n",
       "      <td>6029.48</td>\n",
       "      <td>-0.002895</td>\n",
       "      <td>17.998697</td>\n",
       "      <td>2.0</td>\n",
       "      <td>21528</td>\n",
       "      <td>671</td>\n",
       "      <td>634</td>\n",
       "    </tr>\n",
       "    <tr>\n",
       "      <th>810850</th>\n",
       "      <td>810850</td>\n",
       "      <td>6029.48</td>\n",
       "      <td>-0.002895</td>\n",
       "      <td>17.998697</td>\n",
       "      <td>2.0</td>\n",
       "      <td>45826</td>\n",
       "      <td>663</td>\n",
       "      <td>669</td>\n",
       "    </tr>\n",
       "    <tr>\n",
       "      <th>810851</th>\n",
       "      <td>810851</td>\n",
       "      <td>6029.48</td>\n",
       "      <td>-0.002895</td>\n",
       "      <td>17.998697</td>\n",
       "      <td>2.0</td>\n",
       "      <td>45821</td>\n",
       "      <td>677</td>\n",
       "      <td>661</td>\n",
       "    </tr>\n",
       "    <tr>\n",
       "      <th>810852</th>\n",
       "      <td>810852</td>\n",
       "      <td>6029.48</td>\n",
       "      <td>-0.002895</td>\n",
       "      <td>17.998697</td>\n",
       "      <td>2.0</td>\n",
       "      <td>45828</td>\n",
       "      <td>671</td>\n",
       "      <td>665</td>\n",
       "    </tr>\n",
       "    <tr>\n",
       "      <th>810853</th>\n",
       "      <td>810853</td>\n",
       "      <td>6029.48</td>\n",
       "      <td>-0.002895</td>\n",
       "      <td>17.998697</td>\n",
       "      <td>2.0</td>\n",
       "      <td>45827</td>\n",
       "      <td>668</td>\n",
       "      <td>668</td>\n",
       "    </tr>\n",
       "  </tbody>\n",
       "</table>\n",
       "<p>810854 rows × 8 columns</p>\n",
       "</div>"
      ],
      "text/plain": [
       "         index  Ext_VURead  Sample_VURead  TOF_VURead  exposure  dldTime  \\\n",
       "0            0     6029.48      -0.002895   17.992451       2.0    28008   \n",
       "1        79738     6029.47       0.003044   18.002563       2.0    43102   \n",
       "2       160967     6029.46      -0.006458   17.993641       2.0    18879   \n",
       "3       241307     6029.45       0.001262   18.000481       2.0    47471   \n",
       "4       322376     6029.46       0.003637   17.997805       2.0    29151   \n",
       "...        ...         ...            ...         ...       ...      ...   \n",
       "810849  810849     6029.48      -0.002895   17.998697       2.0    21528   \n",
       "810850  810850     6029.48      -0.002895   17.998697       2.0    45826   \n",
       "810851  810851     6029.48      -0.002895   17.998697       2.0    45821   \n",
       "810852  810852     6029.48      -0.002895   17.998697       2.0    45828   \n",
       "810853  810853     6029.48      -0.002895   17.998697       2.0    45827   \n",
       "\n",
       "        xPos  yPos  \n",
       "0        711   657  \n",
       "1        600   742  \n",
       "2        687   672  \n",
       "3        609   715  \n",
       "4        687   689  \n",
       "...      ...   ...  \n",
       "810849   671   634  \n",
       "810850   663   669  \n",
       "810851   677   661  \n",
       "810852   671   665  \n",
       "810853   668   668  \n",
       "\n",
       "[810854 rows x 8 columns]"
      ]
     },
     "execution_count": 24,
     "metadata": {},
     "output_type": "execute_result"
    }
   ],
   "source": [
    "df"
   ]
  },
  {
   "cell_type": "code",
   "execution_count": null,
   "metadata": {},
   "outputs": [],
   "source": []
  }
 ],
 "metadata": {
  "kernelspec": {
   "display_name": "hextofl",
   "language": "python",
   "name": "hextofl"
  },
  "language_info": {
   "codemirror_mode": {
    "name": "ipython",
    "version": 3
   },
   "file_extension": ".py",
   "mimetype": "text/x-python",
   "name": "python",
   "nbconvert_exporter": "python",
   "pygments_lexer": "ipython3",
   "version": "3.10.5"
  },
  "vscode": {
   "interpreter": {
    "hash": "70716978276e77660aa5f3deeb04389655b777c6c479da69a70ca15b118d9094"
   }
  }
 },
 "nbformat": 4,
 "nbformat_minor": 4
}
